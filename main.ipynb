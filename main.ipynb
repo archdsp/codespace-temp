{
 "cells": [
  {
   "cell_type": "code",
   "execution_count": 2,
   "metadata": {},
   "outputs": [
    {
     "name": "stdout",
     "output_type": "stream",
     "text": [
      "version : 2.1.1\n",
      "[2 4 6]\n"
     ]
    }
   ],
   "source": [
    "import numpy\n",
    "print(f\"version : {numpy.__version__}\")\n",
    "\n",
    "a = numpy.array([1, 2, 3])\n",
    "b = numpy.array([1, 2, 3])\n",
    "\n",
    "print(a + b)"
   ]
  }
 ],
 "metadata": {
  "kernelspec": {
   "display_name": "Python 3",
   "language": "python",
   "name": "python3"
  },
  "language_info": {
   "codemirror_mode": {
    "name": "ipython",
    "version": 3
   },
   "file_extension": ".py",
   "mimetype": "text/x-python",
   "name": "python",
   "nbconvert_exporter": "python",
   "pygments_lexer": "ipython3",
   "version": "3.12.1"
  }
 },
 "nbformat": 4,
 "nbformat_minor": 2
}
